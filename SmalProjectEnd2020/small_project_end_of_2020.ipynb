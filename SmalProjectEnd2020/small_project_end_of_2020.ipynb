{
 "cells": [
  {
   "cell_type": "markdown",
   "source": [
    "# Data From https://www.kaggle.com/dumburanjith/house-sales-prediction-and-classification"
   ],
   "metadata": {
    "collapsed": false
   }
  },
  {
   "cell_type": "code",
   "execution_count": 99,
   "outputs": [],
   "source": [
    "import numpy as np\n",
    "import pandas as pd\n",
    "import matplotlib.pyplot as plt\n",
    "\n",
    "from sklearn.preprocessing import MinMaxScaler\n",
    "\n",
    "from sklearn.model_selection import GridSearchCV\n",
    "\n",
    "from sklearn.linear_model import LinearRegression\n",
    "from sklearn.linear_model import Ridge\n",
    "\n",
    "from sklearn.ensemble import RandomForestRegressor\n",
    "from sklearn.ensemble import GradientBoostingRegressor\n",
    "from sklearn.ensemble import AdaBoostRegressor\n",
    "from sklearn.ensemble import BaggingRegressor\n",
    "\n",
    "from sklearn.svm import SVR\n",
    "\n",
    "from sklearn.tree import DecisionTreeRegressor"
   ],
   "metadata": {
    "collapsed": false,
    "pycharm": {
     "name": "#%%\n"
    }
   }
  },
  {
   "cell_type": "markdown",
   "source": [
    "# Loading the Data"
   ],
   "metadata": {
    "collapsed": false,
    "pycharm": {
     "name": "#%% md\n"
    }
   }
  },
  {
   "cell_type": "code",
   "execution_count": 23,
   "outputs": [],
   "source": [
    "df = pd.read_csv(\"house_data.csv\")"
   ],
   "metadata": {
    "collapsed": false,
    "pycharm": {
     "name": "#%%\n"
    }
   }
  },
  {
   "cell_type": "code",
   "execution_count": 24,
   "outputs": [
    {
     "data": {
      "text/plain": "           id             date     price  bedrooms  bathrooms  sqft_living  \\\n0  7129300520  20141013T000000  221900.0         3       1.00         1180   \n1  6414100192  20141209T000000  538000.0         3       2.25         2570   \n2  5631500400  20150225T000000  180000.0         2       1.00          770   \n3  2487200875  20141209T000000  604000.0         4       3.00         1960   \n4  1954400510  20150218T000000  510000.0         3       2.00         1680   \n\n   sqft_lot  floors  waterfront  view  ...  grade  sqft_above  sqft_basement  \\\n0      5650     1.0           0     0  ...      7        1180              0   \n1      7242     2.0           0     0  ...      7        2170            400   \n2     10000     1.0           0     0  ...      6         770              0   \n3      5000     1.0           0     0  ...      7        1050            910   \n4      8080     1.0           0     0  ...      8        1680              0   \n\n   yr_built  yr_renovated  zipcode      lat     long  sqft_living15  \\\n0      1955             0    98178  47.5112 -122.257           1340   \n1      1951          1991    98125  47.7210 -122.319           1690   \n2      1933             0    98028  47.7379 -122.233           2720   \n3      1965             0    98136  47.5208 -122.393           1360   \n4      1987             0    98074  47.6168 -122.045           1800   \n\n   sqft_lot15  \n0        5650  \n1        7639  \n2        8062  \n3        5000  \n4        7503  \n\n[5 rows x 21 columns]",
      "text/html": "<div>\n<style scoped>\n    .dataframe tbody tr th:only-of-type {\n        vertical-align: middle;\n    }\n\n    .dataframe tbody tr th {\n        vertical-align: top;\n    }\n\n    .dataframe thead th {\n        text-align: right;\n    }\n</style>\n<table border=\"1\" class=\"dataframe\">\n  <thead>\n    <tr style=\"text-align: right;\">\n      <th></th>\n      <th>id</th>\n      <th>date</th>\n      <th>price</th>\n      <th>bedrooms</th>\n      <th>bathrooms</th>\n      <th>sqft_living</th>\n      <th>sqft_lot</th>\n      <th>floors</th>\n      <th>waterfront</th>\n      <th>view</th>\n      <th>...</th>\n      <th>grade</th>\n      <th>sqft_above</th>\n      <th>sqft_basement</th>\n      <th>yr_built</th>\n      <th>yr_renovated</th>\n      <th>zipcode</th>\n      <th>lat</th>\n      <th>long</th>\n      <th>sqft_living15</th>\n      <th>sqft_lot15</th>\n    </tr>\n  </thead>\n  <tbody>\n    <tr>\n      <th>0</th>\n      <td>7129300520</td>\n      <td>20141013T000000</td>\n      <td>221900.0</td>\n      <td>3</td>\n      <td>1.00</td>\n      <td>1180</td>\n      <td>5650</td>\n      <td>1.0</td>\n      <td>0</td>\n      <td>0</td>\n      <td>...</td>\n      <td>7</td>\n      <td>1180</td>\n      <td>0</td>\n      <td>1955</td>\n      <td>0</td>\n      <td>98178</td>\n      <td>47.5112</td>\n      <td>-122.257</td>\n      <td>1340</td>\n      <td>5650</td>\n    </tr>\n    <tr>\n      <th>1</th>\n      <td>6414100192</td>\n      <td>20141209T000000</td>\n      <td>538000.0</td>\n      <td>3</td>\n      <td>2.25</td>\n      <td>2570</td>\n      <td>7242</td>\n      <td>2.0</td>\n      <td>0</td>\n      <td>0</td>\n      <td>...</td>\n      <td>7</td>\n      <td>2170</td>\n      <td>400</td>\n      <td>1951</td>\n      <td>1991</td>\n      <td>98125</td>\n      <td>47.7210</td>\n      <td>-122.319</td>\n      <td>1690</td>\n      <td>7639</td>\n    </tr>\n    <tr>\n      <th>2</th>\n      <td>5631500400</td>\n      <td>20150225T000000</td>\n      <td>180000.0</td>\n      <td>2</td>\n      <td>1.00</td>\n      <td>770</td>\n      <td>10000</td>\n      <td>1.0</td>\n      <td>0</td>\n      <td>0</td>\n      <td>...</td>\n      <td>6</td>\n      <td>770</td>\n      <td>0</td>\n      <td>1933</td>\n      <td>0</td>\n      <td>98028</td>\n      <td>47.7379</td>\n      <td>-122.233</td>\n      <td>2720</td>\n      <td>8062</td>\n    </tr>\n    <tr>\n      <th>3</th>\n      <td>2487200875</td>\n      <td>20141209T000000</td>\n      <td>604000.0</td>\n      <td>4</td>\n      <td>3.00</td>\n      <td>1960</td>\n      <td>5000</td>\n      <td>1.0</td>\n      <td>0</td>\n      <td>0</td>\n      <td>...</td>\n      <td>7</td>\n      <td>1050</td>\n      <td>910</td>\n      <td>1965</td>\n      <td>0</td>\n      <td>98136</td>\n      <td>47.5208</td>\n      <td>-122.393</td>\n      <td>1360</td>\n      <td>5000</td>\n    </tr>\n    <tr>\n      <th>4</th>\n      <td>1954400510</td>\n      <td>20150218T000000</td>\n      <td>510000.0</td>\n      <td>3</td>\n      <td>2.00</td>\n      <td>1680</td>\n      <td>8080</td>\n      <td>1.0</td>\n      <td>0</td>\n      <td>0</td>\n      <td>...</td>\n      <td>8</td>\n      <td>1680</td>\n      <td>0</td>\n      <td>1987</td>\n      <td>0</td>\n      <td>98074</td>\n      <td>47.6168</td>\n      <td>-122.045</td>\n      <td>1800</td>\n      <td>7503</td>\n    </tr>\n  </tbody>\n</table>\n<p>5 rows × 21 columns</p>\n</div>"
     },
     "execution_count": 24,
     "metadata": {},
     "output_type": "execute_result"
    }
   ],
   "source": [
    "df.head()"
   ],
   "metadata": {
    "collapsed": false,
    "pycharm": {
     "name": "#%%\n"
    }
   }
  },
  {
   "cell_type": "code",
   "execution_count": 25,
   "outputs": [
    {
     "data": {
      "text/plain": "(21613, 21)"
     },
     "execution_count": 25,
     "metadata": {},
     "output_type": "execute_result"
    }
   ],
   "source": [
    "df.shape"
   ],
   "metadata": {
    "collapsed": false,
    "pycharm": {
     "name": "#%%\n"
    }
   }
  },
  {
   "cell_type": "code",
   "execution_count": 26,
   "outputs": [
    {
     "data": {
      "text/plain": "id                 int64\ndate              object\nprice            float64\nbedrooms           int64\nbathrooms        float64\nsqft_living        int64\nsqft_lot           int64\nfloors           float64\nwaterfront         int64\nview               int64\ncondition          int64\ngrade              int64\nsqft_above         int64\nsqft_basement      int64\nyr_built           int64\nyr_renovated       int64\nzipcode            int64\nlat              float64\nlong             float64\nsqft_living15      int64\nsqft_lot15         int64\ndtype: object"
     },
     "execution_count": 26,
     "metadata": {},
     "output_type": "execute_result"
    }
   ],
   "source": [
    "df.dtypes"
   ],
   "metadata": {
    "collapsed": false,
    "pycharm": {
     "name": "#%%\n"
    }
   }
  },
  {
   "cell_type": "code",
   "execution_count": 27,
   "outputs": [
    {
     "data": {
      "text/plain": "id               0\ndate             0\nprice            0\nbedrooms         0\nbathrooms        0\nsqft_living      0\nsqft_lot         0\nfloors           0\nwaterfront       0\nview             0\ncondition        0\ngrade            0\nsqft_above       0\nsqft_basement    0\nyr_built         0\nyr_renovated     0\nzipcode          0\nlat              0\nlong             0\nsqft_living15    0\nsqft_lot15       0\ndtype: int64"
     },
     "execution_count": 27,
     "metadata": {},
     "output_type": "execute_result"
    }
   ],
   "source": [
    "df.isna().sum()"
   ],
   "metadata": {
    "collapsed": false,
    "pycharm": {
     "name": "#%%\n"
    }
   }
  },
  {
   "cell_type": "code",
   "execution_count": 28,
   "outputs": [],
   "source": [
    "df = df.drop([\"id\", \"date\", \"zipcode\"], axis = 1)"
   ],
   "metadata": {
    "collapsed": false,
    "pycharm": {
     "name": "#%%\n"
    }
   }
  },
  {
   "cell_type": "code",
   "execution_count": 29,
   "outputs": [
    {
     "data": {
      "text/plain": "price            float64\nbedrooms           int64\nbathrooms        float64\nsqft_living        int64\nsqft_lot           int64\nfloors           float64\nwaterfront         int64\nview               int64\ncondition          int64\ngrade              int64\nsqft_above         int64\nsqft_basement      int64\nyr_built           int64\nyr_renovated       int64\nlat              float64\nlong             float64\nsqft_living15      int64\nsqft_lot15         int64\ndtype: object"
     },
     "execution_count": 29,
     "metadata": {},
     "output_type": "execute_result"
    }
   ],
   "source": [
    "df.head()"
   ],
   "metadata": {
    "collapsed": false,
    "pycharm": {
     "name": "#%%\n"
    }
   }
  },
  {
   "cell_type": "code",
   "execution_count": null,
   "outputs": [],
   "source": [
    "df.dtypes"
   ],
   "metadata": {
    "collapsed": false,
    "pycharm": {
     "name": "#%%\n"
    }
   }
  },
  {
   "cell_type": "code",
   "execution_count": 30,
   "outputs": [
    {
     "data": {
      "text/plain": "(21613, 18)"
     },
     "execution_count": 30,
     "metadata": {},
     "output_type": "execute_result"
    }
   ],
   "source": [
    "df.shape"
   ],
   "metadata": {
    "collapsed": false,
    "pycharm": {
     "name": "#%%\n"
    }
   }
  },
  {
   "cell_type": "markdown",
   "source": [
    "# Data Visualization"
   ],
   "metadata": {
    "collapsed": false,
    "pycharm": {
     "name": "#%% md\n"
    }
   }
  },
  {
   "cell_type": "code",
   "execution_count": 31,
   "outputs": [
    {
     "data": {
      "text/plain": "3     9824\n4     6882\n2     2760\n5     1601\n6      272\n1      199\n7       38\n8       13\n0       13\n9        6\n10       3\n11       1\n33       1\nName: bedrooms, dtype: int64"
     },
     "execution_count": 31,
     "metadata": {},
     "output_type": "execute_result"
    }
   ],
   "source": [
    "bedrooms_count = df.bedrooms.value_counts()\n",
    "bedrooms_count"
   ],
   "metadata": {
    "collapsed": false,
    "pycharm": {
     "name": "#%%\n"
    }
   }
  },
  {
   "cell_type": "code",
   "execution_count": 32,
   "outputs": [
    {
     "data": {
      "text/plain": "<Figure size 1152x648 with 1 Axes>",
      "image/png": "[encoded data removed]"
     },
     "metadata": {
      "needs_background": "light"
     },
     "output_type": "display_data"
    }
   ],
   "source": [
    "fig = plt.figure(figsize=(16, 9))\n",
    "plt.title(\"Count of bedrooms in houses\")\n",
    "plt.xlabel(\"Number of bedrooms in apartment\")\n",
    "plt.ylabel(\"count of apartments with this number of bedrooms\")\n",
    "plt.xticks(bedrooms_count.index.values)\n",
    "plt.bar(bedrooms_count.index, bedrooms_count.values, color=\"g\")\n",
    "plt.savefig(\"bedrooms_count.png\")"
   ],
   "metadata": {
    "collapsed": false,
    "pycharm": {
     "name": "#%%\n"
    }
   }
  },
  {
   "cell_type": "code",
   "execution_count": 33,
   "outputs": [
    {
     "data": {
      "text/plain": "<Figure size 1152x648 with 1 Axes>",
      "image/png": "[encoded data removed]"
     },
     "metadata": {},
     "output_type": "display_data"
    }
   ],
   "source": [
    "floors_count = df.floors.value_counts()\n",
    "floors_unique = df.floors.unique()\n",
    "fig = plt.figure(figsize=(16, 9))\n",
    "plt.title(\"Percentage of houses with specific amount of floors in apartment\")\n",
    "plt.ylabel(\"count of apartments with this number of rooms\")\n",
    "plt.pie(floors_count, labels=floors_unique, autopct='%1.1f%%', explode=(0.05, 0.05, 0.05, 0.05, 0.05, 0.05))\n",
    "plt.savefig(\"floors_percentage.png\")"
   ],
   "metadata": {
    "collapsed": false,
    "pycharm": {
     "name": "#%%\n"
    }
   }
  },
  {
   "cell_type": "markdown",
   "source": [
    "# Data Preparation"
   ],
   "metadata": {
    "collapsed": false,
    "pycharm": {
     "name": "#%% md\n"
    }
   }
  },
  {
   "cell_type": "code",
   "execution_count": 34,
   "outputs": [],
   "source": [
    "y = df.price\n",
    "X = df.drop(\"price\", axis=1)"
   ],
   "metadata": {
    "collapsed": false,
    "pycharm": {
     "name": "#%%\n"
    }
   }
  },
  {
   "cell_type": "code",
   "execution_count": 35,
   "outputs": [],
   "source": [
    "for column in X.columns:\n",
    "    scaler_x = MinMaxScaler()\n",
    "    X[column] = scaler_x.fit_transform(X[column].to_numpy().reshape(-1, 1))"
   ],
   "metadata": {
    "collapsed": false,
    "pycharm": {
     "name": "#%%\n"
    }
   }
  },
  {
   "cell_type": "code",
   "execution_count": 36,
   "outputs": [],
   "source": [
    "scaler_y = MinMaxScaler()\n",
    "y = scaler_y.fit_transform(y.values.reshape(-1, 1))\n",
    "y = y.reshape(-1)"
   ],
   "metadata": {
    "collapsed": false,
    "pycharm": {
     "name": "#%%\n"
    }
   }
  },
  {
   "cell_type": "code",
   "execution_count": 37,
   "outputs": [
    {
     "data": {
      "text/plain": "       bedrooms  bathrooms  sqft_living  sqft_lot  floors  waterfront  view  \\\n0      0.090909    0.12500     0.067170  0.003108     0.0         0.0   0.0   \n1      0.090909    0.28125     0.172075  0.004072     0.4         0.0   0.0   \n2      0.060606    0.12500     0.036226  0.005743     0.0         0.0   0.0   \n3      0.121212    0.37500     0.126038  0.002714     0.0         0.0   0.0   \n4      0.090909    0.25000     0.104906  0.004579     0.0         0.0   0.0   \n...         ...        ...          ...       ...     ...         ...   ...   \n21608  0.090909    0.31250     0.093585  0.000370     0.8         0.0   0.0   \n21609  0.121212    0.31250     0.152453  0.003206     0.4         0.0   0.0   \n21610  0.060606    0.09375     0.055094  0.000503     0.4         0.0   0.0   \n21611  0.090909    0.31250     0.098868  0.001132     0.4         0.0   0.0   \n21612  0.060606    0.09375     0.055094  0.000337     0.4         0.0   0.0   \n\n       condition     grade  sqft_above  sqft_basement  yr_built  yr_renovated  \\\n0            0.5  0.500000    0.097588       0.000000  0.478261      0.000000   \n1            0.5  0.500000    0.206140       0.082988  0.443478      0.988089   \n2            0.5  0.416667    0.052632       0.000000  0.286957      0.000000   \n3            1.0  0.500000    0.083333       0.188797  0.565217      0.000000   \n4            0.5  0.583333    0.152412       0.000000  0.756522      0.000000   \n...          ...       ...         ...            ...       ...           ...   \n21608        0.5  0.583333    0.135965       0.000000  0.947826      0.000000   \n21609        0.5  0.583333    0.221491       0.000000  0.991304      0.000000   \n21610        0.5  0.500000    0.080044       0.000000  0.947826      0.000000   \n21611        0.5  0.583333    0.143640       0.000000  0.904348      0.000000   \n21612        0.5  0.500000    0.080044       0.000000  0.939130      0.000000   \n\n            lat      long  sqft_living15  sqft_lot15  \n0      0.571498  0.217608       0.161934    0.005742  \n1      0.908959  0.166113       0.222165    0.008027  \n2      0.936143  0.237542       0.399415    0.008513  \n3      0.586939  0.104651       0.165376    0.004996  \n4      0.741354  0.393688       0.241094    0.007871  \n...         ...       ...            ...         ...  \n21608  0.874055  0.143688       0.194631    0.000986  \n21609  0.570693  0.130399       0.246257    0.007523  \n21610  0.705324  0.182724       0.106866    0.001558  \n21611  0.608975  0.373754       0.173980    0.000731  \n21612  0.704842  0.182724       0.106866    0.000811  \n\n[21613 rows x 17 columns]",
      "text/html": "<div>\n<style scoped>\n    .dataframe tbody tr th:only-of-type {\n        vertical-align: middle;\n    }\n\n    .dataframe tbody tr th {\n        vertical-align: top;\n    }\n\n    .dataframe thead th {\n        text-align: right;\n    }\n</style>\n<table border=\"1\" class=\"dataframe\">\n  <thead>\n    <tr style=\"text-align: right;\">\n      <th></th>\n      <th>bedrooms</th>\n      <th>bathrooms</th>\n      <th>sqft_living</th>\n      <th>sqft_lot</th>\n      <th>floors</th>\n      <th>waterfront</th>\n      <th>view</th>\n      <th>condition</th>\n      <th>grade</th>\n      <th>sqft_above</th>\n      <th>sqft_basement</th>\n      <th>yr_built</th>\n      <th>yr_renovated</th>\n      <th>lat</th>\n      <th>long</th>\n      <th>sqft_living15</th>\n      <th>sqft_lot15</th>\n    </tr>\n  </thead>\n  <tbody>\n    <tr>\n      <th>0</th>\n      <td>0.090909</td>\n      <td>0.12500</td>\n      <td>0.067170</td>\n      <td>0.003108</td>\n      <td>0.0</td>\n      <td>0.0</td>\n      <td>0.0</td>\n      <td>0.5</td>\n      <td>0.500000</td>\n      <td>0.097588</td>\n      <td>0.000000</td>\n      <td>0.478261</td>\n      <td>0.000000</td>\n      <td>0.571498</td>\n      <td>0.217608</td>\n      <td>0.161934</td>\n      <td>0.005742</td>\n    </tr>\n    <tr>\n      <th>1</th>\n      <td>0.090909</td>\n      <td>0.28125</td>\n      <td>0.172075</td>\n      <td>0.004072</td>\n      <td>0.4</td>\n      <td>0.0</td>\n      <td>0.0</td>\n      <td>0.5</td>\n      <td>0.500000</td>\n      <td>0.206140</td>\n      <td>0.082988</td>\n      <td>0.443478</td>\n      <td>0.988089</td>\n      <td>0.908959</td>\n      <td>0.166113</td>\n      <td>0.222165</td>\n      <td>0.008027</td>\n    </tr>\n    <tr>\n      <th>2</th>\n      <td>0.060606</td>\n      <td>0.12500</td>\n      <td>0.036226</td>\n      <td>0.005743</td>\n      <td>0.0</td>\n      <td>0.0</td>\n      <td>0.0</td>\n      <td>0.5</td>\n      <td>0.416667</td>\n      <td>0.052632</td>\n      <td>0.000000</td>\n      <td>0.286957</td>\n      <td>0.000000</td>\n      <td>0.936143</td>\n      <td>0.237542</td>\n      <td>0.399415</td>\n      <td>0.008513</td>\n    </tr>\n    <tr>\n      <th>3</th>\n      <td>0.121212</td>\n      <td>0.37500</td>\n      <td>0.126038</td>\n      <td>0.002714</td>\n      <td>0.0</td>\n      <td>0.0</td>\n      <td>0.0</td>\n      <td>1.0</td>\n      <td>0.500000</td>\n      <td>0.083333</td>\n      <td>0.188797</td>\n      <td>0.565217</td>\n      <td>0.000000</td>\n      <td>0.586939</td>\n      <td>0.104651</td>\n      <td>0.165376</td>\n      <td>0.004996</td>\n    </tr>\n    <tr>\n      <th>4</th>\n      <td>0.090909</td>\n      <td>0.25000</td>\n      <td>0.104906</td>\n      <td>0.004579</td>\n      <td>0.0</td>\n      <td>0.0</td>\n      <td>0.0</td>\n      <td>0.5</td>\n      <td>0.583333</td>\n      <td>0.152412</td>\n      <td>0.000000</td>\n      <td>0.756522</td>\n      <td>0.000000</td>\n      <td>0.741354</td>\n      <td>0.393688</td>\n      <td>0.241094</td>\n      <td>0.007871</td>\n    </tr>\n    <tr>\n      <th>...</th>\n      <td>...</td>\n      <td>...</td>\n      <td>...</td>\n      <td>...</td>\n      <td>...</td>\n      <td>...</td>\n      <td>...</td>\n      <td>...</td>\n      <td>...</td>\n      <td>...</td>\n      <td>...</td>\n      <td>...</td>\n      <td>...</td>\n      <td>...</td>\n      <td>...</td>\n      <td>...</td>\n      <td>...</td>\n    </tr>\n    <tr>\n      <th>21608</th>\n      <td>0.090909</td>\n      <td>0.31250</td>\n      <td>0.093585</td>\n      <td>0.000370</td>\n      <td>0.8</td>\n      <td>0.0</td>\n      <td>0.0</td>\n      <td>0.5</td>\n      <td>0.583333</td>\n      <td>0.135965</td>\n      <td>0.000000</td>\n      <td>0.947826</td>\n      <td>0.000000</td>\n      <td>0.874055</td>\n      <td>0.143688</td>\n      <td>0.194631</td>\n      <td>0.000986</td>\n    </tr>\n    <tr>\n      <th>21609</th>\n      <td>0.121212</td>\n      <td>0.31250</td>\n      <td>0.152453</td>\n      <td>0.003206</td>\n      <td>0.4</td>\n      <td>0.0</td>\n      <td>0.0</td>\n      <td>0.5</td>\n      <td>0.583333</td>\n      <td>0.221491</td>\n      <td>0.000000</td>\n      <td>0.991304</td>\n      <td>0.000000</td>\n      <td>0.570693</td>\n      <td>0.130399</td>\n      <td>0.246257</td>\n      <td>0.007523</td>\n    </tr>\n    <tr>\n      <th>21610</th>\n      <td>0.060606</td>\n      <td>0.09375</td>\n      <td>0.055094</td>\n      <td>0.000503</td>\n      <td>0.4</td>\n      <td>0.0</td>\n      <td>0.0</td>\n      <td>0.5</td>\n      <td>0.500000</td>\n      <td>0.080044</td>\n      <td>0.000000</td>\n      <td>0.947826</td>\n      <td>0.000000</td>\n      <td>0.705324</td>\n      <td>0.182724</td>\n      <td>0.106866</td>\n      <td>0.001558</td>\n    </tr>\n    <tr>\n      <th>21611</th>\n      <td>0.090909</td>\n      <td>0.31250</td>\n      <td>0.098868</td>\n      <td>0.001132</td>\n      <td>0.4</td>\n      <td>0.0</td>\n      <td>0.0</td>\n      <td>0.5</td>\n      <td>0.583333</td>\n      <td>0.143640</td>\n      <td>0.000000</td>\n      <td>0.904348</td>\n      <td>0.000000</td>\n      <td>0.608975</td>\n      <td>0.373754</td>\n      <td>0.173980</td>\n      <td>0.000731</td>\n    </tr>\n    <tr>\n      <th>21612</th>\n      <td>0.060606</td>\n      <td>0.09375</td>\n      <td>0.055094</td>\n      <td>0.000337</td>\n      <td>0.4</td>\n      <td>0.0</td>\n      <td>0.0</td>\n      <td>0.5</td>\n      <td>0.500000</td>\n      <td>0.080044</td>\n      <td>0.000000</td>\n      <td>0.939130</td>\n      <td>0.000000</td>\n      <td>0.704842</td>\n      <td>0.182724</td>\n      <td>0.106866</td>\n      <td>0.000811</td>\n    </tr>\n  </tbody>\n</table>\n<p>21613 rows × 17 columns</p>\n</div>"
     },
     "execution_count": 37,
     "metadata": {},
     "output_type": "execute_result"
    }
   ],
   "source": [
    "X"
   ],
   "metadata": {
    "collapsed": false,
    "pycharm": {
     "name": "#%%\n"
    }
   }
  },
  {
   "cell_type": "code",
   "execution_count": 38,
   "outputs": [
    {
     "data": {
      "text/plain": "array([0.01926557, 0.06072131, 0.01377049, ..., 0.04289849, 0.04262295,\n       0.03278689])"
     },
     "execution_count": 38,
     "metadata": {},
     "output_type": "execute_result"
    }
   ],
   "source": [
    "y"
   ],
   "metadata": {
    "collapsed": false,
    "pycharm": {
     "name": "#%%\n"
    }
   }
  },
  {
   "cell_type": "code",
   "execution_count": 39,
   "outputs": [
    {
     "data": {
      "text/plain": "((21613, 17), (21613,))"
     },
     "execution_count": 39,
     "metadata": {},
     "output_type": "execute_result"
    }
   ],
   "source": [
    "X.shape, y.shape"
   ],
   "metadata": {
    "collapsed": false,
    "pycharm": {
     "name": "#%%\n"
    }
   }
  },
  {
   "cell_type": "code",
   "execution_count": 40,
   "outputs": [],
   "source": [
    "def create_models() -> set:\n",
    "    \"\"\"\n",
    "    This function creates set of models.\n",
    "    :return: set that contains all the models.\n",
    "    \"\"\"\n",
    "    models = {\n",
    "        \"LinearRegression\" : {\n",
    "            \"model\" : LinearRegression(),\n",
    "            \"params\": {\n",
    "                \"n_jobs\": [None, 10, 20, 30, 40, 50, 60, 70, 80, 90, 100],\n",
    "                \"positive\" : [True, False]\n",
    "            }\n",
    "        },\n",
    "        \"Ridge\" : {\n",
    "            \"model\" : Ridge(),\n",
    "            \"params\" : {\n",
    "                \"solver\" : ['auto', 'svd', 'cholesky', 'lsqr', 'sparse_cg', 'sag', 'saga'],\n",
    "                \"max_iter\" : [x for x in range(1000, 1100)],\n",
    "                \"alpha\" : [x / 10 for x in range(1, 30)]\n",
    "            }\n",
    "        },\n",
    "        \"RandomForestRegressor\" : {\n",
    "            \"model\" : RandomForestRegressor(),\n",
    "            \"params\" : {\n",
    "                \"n_estimators\" : [x for x in range(100, 200)]\n",
    "            }\n",
    "        },\n",
    "        \"DecisionTreeRegressor\": {\n",
    "            \"model\" : DecisionTreeRegressor(),\n",
    "            \"params\" : {\n",
    "                \"max_depth\" : [None, 10, 20, 30, 40, 50],\n",
    "                \"splitter\": [\"best\", \"random\"]\n",
    "            }\n",
    "        }\n",
    "    }\n",
    "\n",
    "    return models"
   ],
   "metadata": {
    "collapsed": false,
    "pycharm": {
     "name": "#%%\n"
    }
   }
  },
  {
   "cell_type": "code",
   "execution_count": 41,
   "outputs": [],
   "source": [
    "def grid_searcher(models: set, X, y) -> list:\n",
    "    \"\"\"\n",
    "    This function checks what are the best models and what are the best params.\n",
    "    :param models: set of the models.\n",
    "    :param X: X data.\n",
    "    :param y: y data.\n",
    "    :return: list of model names, best params for that model, and best score for that model.\n",
    "    \"\"\"\n",
    "    model_params = []\n",
    "    for model_name, model_values in models.items():\n",
    "        searcher = GridSearchCV(model_values[\"model\"], model_values[\"params\"], cv=4, return_train_score=False)\n",
    "        searcher.fit(X, y)\n",
    "        model_params.append(dict(model_name=model_name, best_params=searcher.best_params_, best_score=searcher.best_score_))\n",
    "\n",
    "        print(model_name) # Tracking where the training process is.\n",
    "        print(model_params[-1])\n",
    "        print()\n",
    "\n",
    "    return model_params"
   ],
   "metadata": {
    "collapsed": false,
    "pycharm": {
     "name": "#%%\n"
    }
   }
  },
  {
   "cell_type": "code",
   "execution_count": 42,
   "outputs": [
    {
     "name": "stdout",
     "output_type": "stream",
     "text": [
      "LinearRegression\n",
      "{'model_name': 'LinearRegression', 'best_params': {'n_jobs': None, 'positive': False}, 'best_score': 0.6900558320905714}\n",
      "\n",
      "Ridge\n",
      "{'model_name': 'Ridge', 'best_params': {'alpha': 1.8, 'max_iter': 1079, 'solver': 'saga'}, 'best_score': 0.690266799408314}\n",
      "\n",
      "RandomForestRegressor\n",
      "{'model_name': 'RandomForestRegressor', 'best_params': {'n_estimators': 163}, 'best_score': 0.8695996291106918}\n",
      "\n",
      "DecisionTreeRegressor\n",
      "{'model_name': 'DecisionTreeRegressor', 'best_params': {'max_depth': 10, 'splitter': 'best'}, 'best_score': 0.7754586661266084}\n",
      "\n"
     ]
    }
   ],
   "source": [
    "models = create_models()\n",
    "best_model_params = grid_searcher(models, X, y)"
   ],
   "metadata": {
    "collapsed": false,
    "pycharm": {
     "name": "#%%\n"
    }
   }
  },
  {
   "cell_type": "code",
   "execution_count": 47,
   "outputs": [
    {
     "name": "stdout",
     "output_type": "stream",
     "text": [
      "SVR\n",
      "{'model_name': 'SVR', 'best_params': {'C': 0.1, 'degree': 2, 'gamma': 'scale', 'kernel': 'linear'}, 'best_score': 0.5273359069710954}\n",
      "\n",
      "SVR\n",
      "{'model_name': 'SVR', 'best_params': {'C': 0.7, 'degree': 2, 'gamma': 'scale', 'kernel': 'poly'}, 'best_score': 0.520078349260735}\n",
      "\n",
      "SVR\n",
      "{'model_name': 'SVR', 'best_params': {'C': 1.9, 'degree': 2, 'gamma': 'auto', 'kernel': 'rbf'}, 'best_score': 0.5759517805359515}\n",
      "\n",
      "SVR\n",
      "{'model_name': 'SVR', 'best_params': {'C': 1.0, 'degree': 2, 'gamma': 'auto', 'kernel': 'sigmoid'}, 'best_score': 0.49837509773654803}\n",
      "\n"
     ]
    }
   ],
   "source": [
    "svr_model_1 = { \"SVR\" : {\n",
    "    \"model\" : SVR(),\n",
    "    \"params\" : {\n",
    "        \"kernel\" : ['linear'],\n",
    "        \"gamma\" : ['scale', 'auto'],\n",
    "        \"degree\" : [2, 3, 4, 5, 6],\n",
    "        \"C\" : [x / 10 for x in range(1, 20, 2)]\n",
    "    }\n",
    "}}\n",
    "svr_model_2 = { \"SVR\" : {\n",
    "    \"model\" : SVR(),\n",
    "    \"params\" : {\n",
    "        \"kernel\" : ['poly'],\n",
    "        \"gamma\" : ['scale', 'auto'],\n",
    "        \"degree\" : [2, 3, 4, 5, 6],\n",
    "        \"C\" : [x / 10 for x in range(1, 20, 2)]\n",
    "    }\n",
    "}}\n",
    "svr_model_3 = { \"SVR\" : {\n",
    "    \"model\" : SVR(),\n",
    "    \"params\" : {\n",
    "        \"kernel\" : ['rbf'],\n",
    "        \"gamma\" : ['scale', 'auto'],\n",
    "        \"degree\" : [2, 3, 4, 5, 6],\n",
    "        \"C\" : [x / 10 for x in range(1, 20, 2)]\n",
    "    }\n",
    "}}\n",
    "svr_model_4 = { \"SVR\" : {\n",
    "    \"model\" : SVR(),\n",
    "    \"params\" : {\n",
    "        \"kernel\" : ['sigmoid'],\n",
    "        \"gamma\" : ['scale', 'auto'],\n",
    "        \"degree\" : [2, 3, 4, 5, 6],\n",
    "        \"C\" : [x / 10 for x in range(1, 20)]\n",
    "    }\n",
    "}}\n",
    "best_model_params.append(grid_searcher(svr_model_1, X, y))\n",
    "best_model_params.append(grid_searcher(svr_model_2, X, y))\n",
    "best_model_params.append(grid_searcher(svr_model_3, X, y))\n",
    "best_model_params.append(grid_searcher(svr_model_4, X, y))"
   ],
   "metadata": {
    "collapsed": false,
    "pycharm": {
     "name": "#%%\n"
    }
   }
  },
  {
   "cell_type": "code",
   "execution_count": 72,
   "outputs": [
    {
     "data": {
      "text/plain": "[{'model_name': 'LinearRegression',\n  'best_params': {'n_jobs': None, 'positive': False},\n  'best_score': 0.6900558320905714},\n {'model_name': 'Ridge',\n  'best_params': {'alpha': 1.8, 'max_iter': 1079, 'solver': 'saga'},\n  'best_score': 0.690266799408314},\n {'model_name': 'RandomForestRegressor',\n  'best_params': {'n_estimators': 163},\n  'best_score': 0.8695996291106918},\n {'model_name': 'DecisionTreeRegressor',\n  'best_params': {'max_depth': 10, 'splitter': 'best'},\n  'best_score': 0.7754586661266084},\n [{'model_name': 'SVR',\n   'best_params': {'C': 0.1,\n    'degree': 2,\n    'gamma': 'scale',\n    'kernel': 'linear'},\n   'best_score': 0.5273359069710954}],\n [{'model_name': 'SVR',\n   'best_params': {'C': 0.7, 'degree': 2, 'gamma': 'scale', 'kernel': 'poly'},\n   'best_score': 0.520078349260735}],\n [{'model_name': 'SVR',\n   'best_params': {'C': 1.9, 'degree': 2, 'gamma': 'auto', 'kernel': 'rbf'},\n   'best_score': 0.5759517805359515}],\n [{'model_name': 'SVR',\n   'best_params': {'C': 1.0,\n    'degree': 2,\n    'gamma': 'auto',\n    'kernel': 'sigmoid'},\n   'best_score': 0.49837509773654803}]]"
     },
     "execution_count": 72,
     "metadata": {},
     "output_type": "execute_result"
    }
   ],
   "source": [
    "best_model_params"
   ],
   "metadata": {
    "collapsed": false,
    "pycharm": {
     "name": "#%%\n"
    }
   }
  },
  {
   "cell_type": "code",
   "execution_count": 73,
   "outputs": [],
   "source": [
    "def fit_list_best_model_params(best_model_params: list) -> list:\n",
    "    \"\"\"\n",
    "    This function fixes best_model_params list.\n",
    "    :param best_model_params: list which we want to fix\n",
    "    :return: list, fixed list.\n",
    "    \"\"\"\n",
    "\n",
    "    best_model_params_new = []\n",
    "\n",
    "    for item in best_model_params:\n",
    "        if type(item) is list:\n",
    "            best_model_params_new.append(item[0])\n",
    "        else:\n",
    "            best_model_params_new.append(item)\n",
    "\n",
    "    return best_model_params_new"
   ],
   "metadata": {
    "collapsed": false,
    "pycharm": {
     "name": "#%%\n"
    }
   }
  },
  {
   "cell_type": "code",
   "execution_count": 74,
   "outputs": [
    {
     "data": {
      "text/plain": "[{'model_name': 'LinearRegression',\n  'best_params': {'n_jobs': None, 'positive': False},\n  'best_score': 0.6900558320905714},\n {'model_name': 'Ridge',\n  'best_params': {'alpha': 1.8, 'max_iter': 1079, 'solver': 'saga'},\n  'best_score': 0.690266799408314},\n {'model_name': 'RandomForestRegressor',\n  'best_params': {'n_estimators': 163},\n  'best_score': 0.8695996291106918},\n {'model_name': 'DecisionTreeRegressor',\n  'best_params': {'max_depth': 10, 'splitter': 'best'},\n  'best_score': 0.7754586661266084},\n {'model_name': 'SVR',\n  'best_params': {'C': 0.1, 'degree': 2, 'gamma': 'scale', 'kernel': 'linear'},\n  'best_score': 0.5273359069710954},\n {'model_name': 'SVR',\n  'best_params': {'C': 0.7, 'degree': 2, 'gamma': 'scale', 'kernel': 'poly'},\n  'best_score': 0.520078349260735},\n {'model_name': 'SVR',\n  'best_params': {'C': 1.9, 'degree': 2, 'gamma': 'auto', 'kernel': 'rbf'},\n  'best_score': 0.5759517805359515},\n {'model_name': 'SVR',\n  'best_params': {'C': 1.0, 'degree': 2, 'gamma': 'auto', 'kernel': 'sigmoid'},\n  'best_score': 0.49837509773654803}]"
     },
     "execution_count": 74,
     "metadata": {},
     "output_type": "execute_result"
    }
   ],
   "source": [
    "best_model_params_new = fit_list_best_model_params(best_model_params)\n",
    "best_model_params_new\n"
   ],
   "metadata": {
    "collapsed": false,
    "pycharm": {
     "name": "#%%\n"
    }
   }
  },
  {
   "cell_type": "code",
   "execution_count": 93,
   "outputs": [
    {
     "name": "stdout",
     "output_type": "stream",
     "text": [
      "GradientBoostingRegressor\n",
      "{'model_name': 'GradientBoostingRegressor', 'best_params': {'criterion': 'mse', 'loss': 'ls', 'n_estimators': 200}, 'best_score': 0.8728357239345698}\n",
      "\n"
     ]
    }
   ],
   "source": [
    "gbr_model = { \"GradientBoostingRegressor\" : {\n",
    "    \"model\" : GradientBoostingRegressor(),\n",
    "    \"params\" : {\n",
    "        \"loss\" : ['ls', 'lad', 'huber', 'quantile'],\n",
    "        \"n_estimators\" : [75, 100, 125, 150, 175, 200],\n",
    "        \"criterion\" : ['friedman_mse', 'mse']\n",
    "    }\n",
    "}}\n",
    "\n",
    "best_model_params_new.append(grid_searcher(gbr_model, X, y)[0])"
   ],
   "metadata": {
    "collapsed": false,
    "pycharm": {
     "name": "#%%\n"
    }
   }
  },
  {
   "cell_type": "code",
   "execution_count": 94,
   "outputs": [
    {
     "data": {
      "text/plain": "[{'model_name': 'LinearRegression',\n  'best_params': {'n_jobs': None, 'positive': False},\n  'best_score': 0.6900558320905714},\n {'model_name': 'Ridge',\n  'best_params': {'alpha': 1.8, 'max_iter': 1079, 'solver': 'saga'},\n  'best_score': 0.690266799408314},\n {'model_name': 'RandomForestRegressor',\n  'best_params': {'n_estimators': 163},\n  'best_score': 0.8695996291106918},\n {'model_name': 'DecisionTreeRegressor',\n  'best_params': {'max_depth': 10, 'splitter': 'best'},\n  'best_score': 0.7754586661266084},\n {'model_name': 'SVR',\n  'best_params': {'C': 0.1, 'degree': 2, 'gamma': 'scale', 'kernel': 'linear'},\n  'best_score': 0.5273359069710954},\n {'model_name': 'SVR',\n  'best_params': {'C': 0.7, 'degree': 2, 'gamma': 'scale', 'kernel': 'poly'},\n  'best_score': 0.520078349260735},\n {'model_name': 'SVR',\n  'best_params': {'C': 1.9, 'degree': 2, 'gamma': 'auto', 'kernel': 'rbf'},\n  'best_score': 0.5759517805359515},\n {'model_name': 'SVR',\n  'best_params': {'C': 1.0, 'degree': 2, 'gamma': 'auto', 'kernel': 'sigmoid'},\n  'best_score': 0.49837509773654803},\n {'model_name': 'GradientBoostingRegressor',\n  'best_params': {'criterion': 'mse', 'loss': 'ls', 'n_estimators': 200},\n  'best_score': 0.8728357239345698}]"
     },
     "execution_count": 94,
     "metadata": {},
     "output_type": "execute_result"
    }
   ],
   "source": [
    "best_model_params_new"
   ],
   "metadata": {
    "collapsed": false,
    "pycharm": {
     "name": "#%%\n"
    }
   }
  },
  {
   "cell_type": "code",
   "execution_count": 95,
   "outputs": [],
   "source": [
    "abr = { \"AdaBoostingRegressor\" : {\n",
    "    \"model\" : AdaBoostRegressor(),\n",
    "    \"params\" : {\n",
    "        \"loss\" : ['linear', 'square', 'exponential'],\n",
    "        \"n_estimators\" : [50, 75, 100, 125, 150, 175, 200],\n",
    "        \"learning_rate\" : [0.25, 0.5, 0.75, 1]\n",
    "    }\n",
    "}}"
   ],
   "metadata": {
    "collapsed": false,
    "pycharm": {
     "name": "#%%\n"
    }
   }
  },
  {
   "cell_type": "code",
   "execution_count": 97,
   "outputs": [
    {
     "name": "stdout",
     "output_type": "stream",
     "text": [
      "AdaBoostingRegressor\n",
      "{'model_name': 'AdaBoostingRegressor', 'best_params': {'learning_rate': 0.25, 'loss': 'exponential', 'n_estimators': 50}, 'best_score': 0.6383582070027236}\n",
      "\n"
     ]
    }
   ],
   "source": [
    "best_model_params_new.append(grid_searcher(abr, X, y)[0])"
   ],
   "metadata": {
    "collapsed": false,
    "pycharm": {
     "name": "#%%\n"
    }
   }
  },
  {
   "cell_type": "code",
   "execution_count": 98,
   "outputs": [
    {
     "data": {
      "text/plain": "[{'model_name': 'LinearRegression',\n  'best_params': {'n_jobs': None, 'positive': False},\n  'best_score': 0.6900558320905714},\n {'model_name': 'Ridge',\n  'best_params': {'alpha': 1.8, 'max_iter': 1079, 'solver': 'saga'},\n  'best_score': 0.690266799408314},\n {'model_name': 'RandomForestRegressor',\n  'best_params': {'n_estimators': 163},\n  'best_score': 0.8695996291106918},\n {'model_name': 'DecisionTreeRegressor',\n  'best_params': {'max_depth': 10, 'splitter': 'best'},\n  'best_score': 0.7754586661266084},\n {'model_name': 'SVR',\n  'best_params': {'C': 0.1, 'degree': 2, 'gamma': 'scale', 'kernel': 'linear'},\n  'best_score': 0.5273359069710954},\n {'model_name': 'SVR',\n  'best_params': {'C': 0.7, 'degree': 2, 'gamma': 'scale', 'kernel': 'poly'},\n  'best_score': 0.520078349260735},\n {'model_name': 'SVR',\n  'best_params': {'C': 1.9, 'degree': 2, 'gamma': 'auto', 'kernel': 'rbf'},\n  'best_score': 0.5759517805359515},\n {'model_name': 'SVR',\n  'best_params': {'C': 1.0, 'degree': 2, 'gamma': 'auto', 'kernel': 'sigmoid'},\n  'best_score': 0.49837509773654803},\n {'model_name': 'GradientBoostingRegressor',\n  'best_params': {'criterion': 'mse', 'loss': 'ls', 'n_estimators': 200},\n  'best_score': 0.8728357239345698},\n {'model_name': 'AdaBoostingRegressor',\n  'best_params': {'learning_rate': 0.25,\n   'loss': 'exponential',\n   'n_estimators': 50},\n  'best_score': 0.6383582070027236}]"
     },
     "execution_count": 98,
     "metadata": {},
     "output_type": "execute_result"
    }
   ],
   "source": [
    "best_model_params_new"
   ],
   "metadata": {
    "collapsed": false,
    "pycharm": {
     "name": "#%%\n"
    }
   }
  },
  {
   "cell_type": "code",
   "execution_count": 101,
   "outputs": [
    {
     "name": "stdout",
     "output_type": "stream",
     "text": [
      "BaggingRegressor\n",
      "{'model_name': 'BaggingRegressor', 'best_params': {'bootstrap': True, 'bootstrap_features': False, 'max_features': 0.75, 'n_estimators': 30}, 'best_score': 0.8547900205387432}\n",
      "\n"
     ]
    }
   ],
   "source": [
    "br = { \"BaggingRegressor\" : {\n",
    "    \"model\" : BaggingRegressor(),\n",
    "    \"params\" : {\n",
    "        \"n_estimators\" : [x * 10 for x in range(1, 5)],\n",
    "        \"max_features\" : [0.75, 1, 2],\n",
    "        \"bootstrap\": [True, False],\n",
    "        \"bootstrap_features\": [True, False]\n",
    "    }\n",
    "}}\n",
    "best_model_params_new.append(grid_searcher(br, X, y)[0])"
   ],
   "metadata": {
    "collapsed": false,
    "pycharm": {
     "name": "#%%\n"
    }
   }
  },
  {
   "cell_type": "code",
   "execution_count": 102,
   "outputs": [
    {
     "data": {
      "text/plain": "[{'model_name': 'LinearRegression',\n  'best_params': {'n_jobs': None, 'positive': False},\n  'best_score': 0.6900558320905714},\n {'model_name': 'Ridge',\n  'best_params': {'alpha': 1.8, 'max_iter': 1079, 'solver': 'saga'},\n  'best_score': 0.690266799408314},\n {'model_name': 'RandomForestRegressor',\n  'best_params': {'n_estimators': 163},\n  'best_score': 0.8695996291106918},\n {'model_name': 'DecisionTreeRegressor',\n  'best_params': {'max_depth': 10, 'splitter': 'best'},\n  'best_score': 0.7754586661266084},\n {'model_name': 'SVR',\n  'best_params': {'C': 0.1, 'degree': 2, 'gamma': 'scale', 'kernel': 'linear'},\n  'best_score': 0.5273359069710954},\n {'model_name': 'SVR',\n  'best_params': {'C': 0.7, 'degree': 2, 'gamma': 'scale', 'kernel': 'poly'},\n  'best_score': 0.520078349260735},\n {'model_name': 'SVR',\n  'best_params': {'C': 1.9, 'degree': 2, 'gamma': 'auto', 'kernel': 'rbf'},\n  'best_score': 0.5759517805359515},\n {'model_name': 'SVR',\n  'best_params': {'C': 1.0, 'degree': 2, 'gamma': 'auto', 'kernel': 'sigmoid'},\n  'best_score': 0.49837509773654803},\n {'model_name': 'GradientBoostingRegressor',\n  'best_params': {'criterion': 'mse', 'loss': 'ls', 'n_estimators': 200},\n  'best_score': 0.8728357239345698},\n {'model_name': 'AdaBoostingRegressor',\n  'best_params': {'learning_rate': 0.25,\n   'loss': 'exponential',\n   'n_estimators': 50},\n  'best_score': 0.6383582070027236},\n {'model_name': 'BaggingRegressor',\n  'best_params': {'bootstrap': True,\n   'bootstrap_features': False,\n   'max_features': 0.75,\n   'n_estimators': 30},\n  'best_score': 0.8547900205387432}]"
     },
     "execution_count": 102,
     "metadata": {},
     "output_type": "execute_result"
    }
   ],
   "source": [
    "best_model_params_new"
   ],
   "metadata": {
    "collapsed": false,
    "pycharm": {
     "name": "#%%\n"
    }
   }
  },
  {
   "cell_type": "code",
   "execution_count": 107,
   "outputs": [
    {
     "data": {
      "text/plain": "                   model_name  \\\n8   GradientBoostingRegressor   \n2       RandomForestRegressor   \n10           BaggingRegressor   \n3       DecisionTreeRegressor   \n1                       Ridge   \n0            LinearRegression   \n9        AdaBoostingRegressor   \n6                         SVR   \n4                         SVR   \n5                         SVR   \n7                         SVR   \n\n                                          best_params  best_score  \n8   {'criterion': 'mse', 'loss': 'ls', 'n_estimato...    0.872836  \n2                               {'n_estimators': 163}    0.869600  \n10  {'bootstrap': True, 'bootstrap_features': Fals...    0.854790  \n3               {'max_depth': 10, 'splitter': 'best'}    0.775459  \n1   {'alpha': 1.8, 'max_iter': 1079, 'solver': 'sa...    0.690267  \n0                 {'n_jobs': None, 'positive': False}    0.690056  \n9   {'learning_rate': 0.25, 'loss': 'exponential',...    0.638358  \n6   {'C': 1.9, 'degree': 2, 'gamma': 'auto', 'kern...    0.575952  \n4   {'C': 0.1, 'degree': 2, 'gamma': 'scale', 'ker...    0.527336  \n5   {'C': 0.7, 'degree': 2, 'gamma': 'scale', 'ker...    0.520078  \n7   {'C': 1.0, 'degree': 2, 'gamma': 'auto', 'kern...    0.498375  ",
      "text/html": "<div>\n<style scoped>\n    .dataframe tbody tr th:only-of-type {\n        vertical-align: middle;\n    }\n\n    .dataframe tbody tr th {\n        vertical-align: top;\n    }\n\n    .dataframe thead th {\n        text-align: right;\n    }\n</style>\n<table border=\"1\" class=\"dataframe\">\n  <thead>\n    <tr style=\"text-align: right;\">\n      <th></th>\n      <th>model_name</th>\n      <th>best_params</th>\n      <th>best_score</th>\n    </tr>\n  </thead>\n  <tbody>\n    <tr>\n      <th>8</th>\n      <td>GradientBoostingRegressor</td>\n      <td>{'criterion': 'mse', 'loss': 'ls', 'n_estimato...</td>\n      <td>0.872836</td>\n    </tr>\n    <tr>\n      <th>2</th>\n      <td>RandomForestRegressor</td>\n      <td>{'n_estimators': 163}</td>\n      <td>0.869600</td>\n    </tr>\n    <tr>\n      <th>10</th>\n      <td>BaggingRegressor</td>\n      <td>{'bootstrap': True, 'bootstrap_features': Fals...</td>\n      <td>0.854790</td>\n    </tr>\n    <tr>\n      <th>3</th>\n      <td>DecisionTreeRegressor</td>\n      <td>{'max_depth': 10, 'splitter': 'best'}</td>\n      <td>0.775459</td>\n    </tr>\n    <tr>\n      <th>1</th>\n      <td>Ridge</td>\n      <td>{'alpha': 1.8, 'max_iter': 1079, 'solver': 'sa...</td>\n      <td>0.690267</td>\n    </tr>\n    <tr>\n      <th>0</th>\n      <td>LinearRegression</td>\n      <td>{'n_jobs': None, 'positive': False}</td>\n      <td>0.690056</td>\n    </tr>\n    <tr>\n      <th>9</th>\n      <td>AdaBoostingRegressor</td>\n      <td>{'learning_rate': 0.25, 'loss': 'exponential',...</td>\n      <td>0.638358</td>\n    </tr>\n    <tr>\n      <th>6</th>\n      <td>SVR</td>\n      <td>{'C': 1.9, 'degree': 2, 'gamma': 'auto', 'kern...</td>\n      <td>0.575952</td>\n    </tr>\n    <tr>\n      <th>4</th>\n      <td>SVR</td>\n      <td>{'C': 0.1, 'degree': 2, 'gamma': 'scale', 'ker...</td>\n      <td>0.527336</td>\n    </tr>\n    <tr>\n      <th>5</th>\n      <td>SVR</td>\n      <td>{'C': 0.7, 'degree': 2, 'gamma': 'scale', 'ker...</td>\n      <td>0.520078</td>\n    </tr>\n    <tr>\n      <th>7</th>\n      <td>SVR</td>\n      <td>{'C': 1.0, 'degree': 2, 'gamma': 'auto', 'kern...</td>\n      <td>0.498375</td>\n    </tr>\n  </tbody>\n</table>\n</div>"
     },
     "execution_count": 107,
     "metadata": {},
     "output_type": "execute_result"
    }
   ],
   "source": [
    "results = pd.DataFrame(best_model_params_new)\n",
    "results = results.sort_values(by=\"best_score\", ascending=False)\n",
    "results"
   ],
   "metadata": {
    "collapsed": false,
    "pycharm": {
     "name": "#%%\n"
    }
   }
  },
  {
   "cell_type": "markdown",
   "source": [
    "# You don't have to run all the grid seaches. Just copy the best parameters from the csv file and create a model with these parameters."
   ],
   "metadata": {
    "collapsed": false,
    "pycharm": {
     "name": "#%% md\n"
    }
   }
  },
  {
   "cell_type": "code",
   "execution_count": 108,
   "outputs": [],
   "source": [
    "results.to_csv(\"best_model_params.csv\")\n"
   ],
   "metadata": {
    "collapsed": false,
    "pycharm": {
     "name": "#%%\n"
    }
   }
  },
  {
   "cell_type": "code",
   "execution_count": null,
   "outputs": [],
   "source": [],
   "metadata": {
    "collapsed": false,
    "pycharm": {
     "name": "#%%\n"
    }
   }
  }
 ],
 "metadata": {
  "kernelspec": {
   "display_name": "Python 3",
   "language": "python",
   "name": "python3"
  },
  "language_info": {
   "codemirror_mode": {
    "name": "ipython",
    "version": 2
   },
   "file_extension": ".py",
   "mimetype": "text/x-python",
   "name": "python",
   "nbconvert_exporter": "python",
   "pygments_lexer": "ipython2",
   "version": "2.7.6"
  }
 },
 "nbformat": 4,
 "nbformat_minor": 0
}