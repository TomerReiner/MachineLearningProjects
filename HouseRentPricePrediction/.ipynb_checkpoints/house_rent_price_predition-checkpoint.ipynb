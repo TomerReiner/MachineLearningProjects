{
 "cells": [
  {
   "cell_type": "markdown",
   "metadata": {
    "collapsed": true,
    "pycharm": {
     "name": "#%% md\n"
    }
   },
   "source": [
    "# Data From: [house-rent-prediction-dataset](https://www.kaggle.com/rkb0023/houserentpredictiondataset)\n"
   ]
  },
  {
   "cell_type": "code",
   "execution_count": 2,
   "metadata": {
    "pycharm": {
     "name": "#%%\n"
    }
   },
   "outputs": [],
   "source": [
    "# Imports.\n",
    "import json\n",
    "import numpy as np\n",
    "import pandas as pd\n",
    "import matplotlib.pyplot as plt\n",
    "import seaborn as sns\n",
    "import spacy\n",
    "from sklearn.preprocessing import LabelEncoder\n",
    "from sklearn.model_selection import train_test_split\n",
    "from sklearn.model_selection import GridSearchCV\n",
    "pd.pandas.set_option(\"display.max_columns\", None)"
   ]
  },
  {
   "cell_type": "code",
   "execution_count": 3,
   "metadata": {
    "pycharm": {
     "name": "#%%\n"
    }
   },
   "outputs": [],
   "source": [
    "JSON_FILE_NAME = \"data.json\" # This file will contain numerical encoding for `object` dtype columns in the dataset."
   ]
  },
  {
   "cell_type": "code",
   "execution_count": 4,
   "metadata": {
    "pycharm": {
     "name": "#%%\n"
    }
   },
   "outputs": [],
   "source": [
    "df = pd.read_csv(r\"C:\\Users\\kids\\PycharmProjects\\MachineLearningProjects\\HouseRentPricePrediction\\housing_train.csv\") # Loading the data."
   ]
  },
  {
   "cell_type": "code",
   "execution_count": 5,
   "metadata": {
    "pycharm": {
     "name": "#%%\n"
    }
   },
   "outputs": [
    {
     "data": {
      "text/html": [
       "<div>\n",
       "<style scoped>\n",
       "    .dataframe tbody tr th:only-of-type {\n",
       "        vertical-align: middle;\n",
       "    }\n",
       "\n",
       "    .dataframe tbody tr th {\n",
       "        vertical-align: top;\n",
       "    }\n",
       "\n",
       "    .dataframe thead th {\n",
       "        text-align: right;\n",
       "    }\n",
       "</style>\n",
       "<table border=\"1\" class=\"dataframe\">\n",
       "  <thead>\n",
       "    <tr style=\"text-align: right;\">\n",
       "      <th></th>\n",
       "      <th>id</th>\n",
       "      <th>url</th>\n",
       "      <th>region</th>\n",
       "      <th>region_url</th>\n",
       "      <th>price</th>\n",
       "      <th>type</th>\n",
       "      <th>sqfeet</th>\n",
       "      <th>beds</th>\n",
       "      <th>baths</th>\n",
       "      <th>cats_allowed</th>\n",
       "      <th>dogs_allowed</th>\n",
       "      <th>smoking_allowed</th>\n",
       "      <th>wheelchair_access</th>\n",
       "      <th>electric_vehicle_charge</th>\n",
       "      <th>comes_furnished</th>\n",
       "      <th>laundry_options</th>\n",
       "      <th>parking_options</th>\n",
       "      <th>image_url</th>\n",
       "      <th>description</th>\n",
       "      <th>lat</th>\n",
       "      <th>long</th>\n",
       "      <th>state</th>\n",
       "    </tr>\n",
       "  </thead>\n",
       "  <tbody>\n",
       "    <tr>\n",
       "      <th>0</th>\n",
       "      <td>7039061606</td>\n",
       "      <td>https://bham.craigslist.org/apa/d/birmingham-h...</td>\n",
       "      <td>birmingham</td>\n",
       "      <td>https://bham.craigslist.org</td>\n",
       "      <td>1195</td>\n",
       "      <td>apartment</td>\n",
       "      <td>1908</td>\n",
       "      <td>3</td>\n",
       "      <td>2.0</td>\n",
       "      <td>1</td>\n",
       "      <td>1</td>\n",
       "      <td>1</td>\n",
       "      <td>0</td>\n",
       "      <td>0</td>\n",
       "      <td>0</td>\n",
       "      <td>laundry on site</td>\n",
       "      <td>street parking</td>\n",
       "      <td>https://images.craigslist.org/00L0L_80pNkyDeG0...</td>\n",
       "      <td>Apartments In Birmingham AL Welcome to 100 Inv...</td>\n",
       "      <td>33.4226</td>\n",
       "      <td>-86.7065</td>\n",
       "      <td>al</td>\n",
       "    </tr>\n",
       "    <tr>\n",
       "      <th>1</th>\n",
       "      <td>7041970863</td>\n",
       "      <td>https://bham.craigslist.org/apa/d/birmingham-w...</td>\n",
       "      <td>birmingham</td>\n",
       "      <td>https://bham.craigslist.org</td>\n",
       "      <td>1120</td>\n",
       "      <td>apartment</td>\n",
       "      <td>1319</td>\n",
       "      <td>3</td>\n",
       "      <td>2.0</td>\n",
       "      <td>1</td>\n",
       "      <td>1</td>\n",
       "      <td>1</td>\n",
       "      <td>0</td>\n",
       "      <td>0</td>\n",
       "      <td>0</td>\n",
       "      <td>laundry on site</td>\n",
       "      <td>off-street parking</td>\n",
       "      <td>https://images.craigslist.org/00707_uRrY9CsNMC...</td>\n",
       "      <td>Find Your Way to Haven Apartment Homes Come ho...</td>\n",
       "      <td>33.3755</td>\n",
       "      <td>-86.8045</td>\n",
       "      <td>al</td>\n",
       "    </tr>\n",
       "    <tr>\n",
       "      <th>2</th>\n",
       "      <td>7041966914</td>\n",
       "      <td>https://bham.craigslist.org/apa/d/birmingham-g...</td>\n",
       "      <td>birmingham</td>\n",
       "      <td>https://bham.craigslist.org</td>\n",
       "      <td>825</td>\n",
       "      <td>apartment</td>\n",
       "      <td>1133</td>\n",
       "      <td>1</td>\n",
       "      <td>1.5</td>\n",
       "      <td>1</td>\n",
       "      <td>1</td>\n",
       "      <td>1</td>\n",
       "      <td>0</td>\n",
       "      <td>0</td>\n",
       "      <td>0</td>\n",
       "      <td>laundry on site</td>\n",
       "      <td>street parking</td>\n",
       "      <td>https://images.craigslist.org/00h0h_b7Bdj1NLBi...</td>\n",
       "      <td>Apartments In Birmingham AL Welcome to 100 Inv...</td>\n",
       "      <td>33.4226</td>\n",
       "      <td>-86.7065</td>\n",
       "      <td>al</td>\n",
       "    </tr>\n",
       "    <tr>\n",
       "      <th>3</th>\n",
       "      <td>7041966936</td>\n",
       "      <td>https://bham.craigslist.org/apa/d/birmingham-f...</td>\n",
       "      <td>birmingham</td>\n",
       "      <td>https://bham.craigslist.org</td>\n",
       "      <td>800</td>\n",
       "      <td>apartment</td>\n",
       "      <td>927</td>\n",
       "      <td>1</td>\n",
       "      <td>1.0</td>\n",
       "      <td>1</td>\n",
       "      <td>1</td>\n",
       "      <td>1</td>\n",
       "      <td>0</td>\n",
       "      <td>0</td>\n",
       "      <td>0</td>\n",
       "      <td>laundry on site</td>\n",
       "      <td>street parking</td>\n",
       "      <td>https://images.craigslist.org/00808_6ghZ8tSRQs...</td>\n",
       "      <td>Apartments In Birmingham AL Welcome to 100 Inv...</td>\n",
       "      <td>33.4226</td>\n",
       "      <td>-86.7065</td>\n",
       "      <td>al</td>\n",
       "    </tr>\n",
       "    <tr>\n",
       "      <th>4</th>\n",
       "      <td>7041966888</td>\n",
       "      <td>https://bham.craigslist.org/apa/d/birmingham-2...</td>\n",
       "      <td>birmingham</td>\n",
       "      <td>https://bham.craigslist.org</td>\n",
       "      <td>785</td>\n",
       "      <td>apartment</td>\n",
       "      <td>1047</td>\n",
       "      <td>2</td>\n",
       "      <td>1.0</td>\n",
       "      <td>1</td>\n",
       "      <td>1</td>\n",
       "      <td>1</td>\n",
       "      <td>0</td>\n",
       "      <td>0</td>\n",
       "      <td>0</td>\n",
       "      <td>laundry on site</td>\n",
       "      <td>street parking</td>\n",
       "      <td>https://images.craigslist.org/00y0y_21c0FOvUXm...</td>\n",
       "      <td>Apartments In Birmingham AL Welcome to 100 Inv...</td>\n",
       "      <td>33.4226</td>\n",
       "      <td>-86.7065</td>\n",
       "      <td>al</td>\n",
       "    </tr>\n",
       "  </tbody>\n",
       "</table>\n",
       "</div>"
      ],
      "text/plain": [
       "           id                                                url      region  \\\n",
       "0  7039061606  https://bham.craigslist.org/apa/d/birmingham-h...  birmingham   \n",
       "1  7041970863  https://bham.craigslist.org/apa/d/birmingham-w...  birmingham   \n",
       "2  7041966914  https://bham.craigslist.org/apa/d/birmingham-g...  birmingham   \n",
       "3  7041966936  https://bham.craigslist.org/apa/d/birmingham-f...  birmingham   \n",
       "4  7041966888  https://bham.craigslist.org/apa/d/birmingham-2...  birmingham   \n",
       "\n",
       "                    region_url  price       type  sqfeet  beds  baths  \\\n",
       "0  https://bham.craigslist.org   1195  apartment    1908     3    2.0   \n",
       "1  https://bham.craigslist.org   1120  apartment    1319     3    2.0   \n",
       "2  https://bham.craigslist.org    825  apartment    1133     1    1.5   \n",
       "3  https://bham.craigslist.org    800  apartment     927     1    1.0   \n",
       "4  https://bham.craigslist.org    785  apartment    1047     2    1.0   \n",
       "\n",
       "   cats_allowed  dogs_allowed  smoking_allowed  wheelchair_access  \\\n",
       "0             1             1                1                  0   \n",
       "1             1             1                1                  0   \n",
       "2             1             1                1                  0   \n",
       "3             1             1                1                  0   \n",
       "4             1             1                1                  0   \n",
       "\n",
       "   electric_vehicle_charge  comes_furnished  laundry_options  \\\n",
       "0                        0                0  laundry on site   \n",
       "1                        0                0  laundry on site   \n",
       "2                        0                0  laundry on site   \n",
       "3                        0                0  laundry on site   \n",
       "4                        0                0  laundry on site   \n",
       "\n",
       "      parking_options                                          image_url  \\\n",
       "0      street parking  https://images.craigslist.org/00L0L_80pNkyDeG0...   \n",
       "1  off-street parking  https://images.craigslist.org/00707_uRrY9CsNMC...   \n",
       "2      street parking  https://images.craigslist.org/00h0h_b7Bdj1NLBi...   \n",
       "3      street parking  https://images.craigslist.org/00808_6ghZ8tSRQs...   \n",
       "4      street parking  https://images.craigslist.org/00y0y_21c0FOvUXm...   \n",
       "\n",
       "                                         description      lat     long state  \n",
       "0  Apartments In Birmingham AL Welcome to 100 Inv...  33.4226 -86.7065    al  \n",
       "1  Find Your Way to Haven Apartment Homes Come ho...  33.3755 -86.8045    al  \n",
       "2  Apartments In Birmingham AL Welcome to 100 Inv...  33.4226 -86.7065    al  \n",
       "3  Apartments In Birmingham AL Welcome to 100 Inv...  33.4226 -86.7065    al  \n",
       "4  Apartments In Birmingham AL Welcome to 100 Inv...  33.4226 -86.7065    al  "
      ]
     },
     "execution_count": 5,
     "metadata": {},
     "output_type": "execute_result"
    }
   ],
   "source": [
    "df.head()\n"
   ]
  },
  {
   "cell_type": "markdown",
   "metadata": {
    "pycharm": {
     "name": "#%% md\n"
    }
   },
   "source": [
    "The columns 'id', `url`, `region_url` and `image_url` are useless columns, hence we will drop them."
   ]
  },
  {
   "cell_type": "code",
   "execution_count": 6,
   "metadata": {
    "pycharm": {
     "name": "#%%\n"
    }
   },
   "outputs": [],
   "source": [
    "USELESS_COLUMNS = [\"id\", \"url\", \"region_url\", \"image_url\"]\n",
    "df.drop(USELESS_COLUMNS, axis=1, inplace=True) # Dropping useless columns"
   ]
  },
  {
   "cell_type": "code",
   "execution_count": 7,
   "metadata": {
    "pycharm": {
     "name": "#%%\n"
    }
   },
   "outputs": [
    {
     "data": {
      "text/html": [
       "<div>\n",
       "<style scoped>\n",
       "    .dataframe tbody tr th:only-of-type {\n",
       "        vertical-align: middle;\n",
       "    }\n",
       "\n",
       "    .dataframe tbody tr th {\n",
       "        vertical-align: top;\n",
       "    }\n",
       "\n",
       "    .dataframe thead th {\n",
       "        text-align: right;\n",
       "    }\n",
       "</style>\n",
       "<table border=\"1\" class=\"dataframe\">\n",
       "  <thead>\n",
       "    <tr style=\"text-align: right;\">\n",
       "      <th></th>\n",
       "      <th>region</th>\n",
       "      <th>price</th>\n",
       "      <th>type</th>\n",
       "      <th>sqfeet</th>\n",
       "      <th>beds</th>\n",
       "      <th>baths</th>\n",
       "      <th>cats_allowed</th>\n",
       "      <th>dogs_allowed</th>\n",
       "      <th>smoking_allowed</th>\n",
       "      <th>wheelchair_access</th>\n",
       "      <th>electric_vehicle_charge</th>\n",
       "      <th>comes_furnished</th>\n",
       "      <th>laundry_options</th>\n",
       "      <th>parking_options</th>\n",
       "      <th>description</th>\n",
       "      <th>lat</th>\n",
       "      <th>long</th>\n",
       "      <th>state</th>\n",
       "    </tr>\n",
       "  </thead>\n",
       "  <tbody>\n",
       "    <tr>\n",
       "      <th>0</th>\n",
       "      <td>birmingham</td>\n",
       "      <td>1195</td>\n",
       "      <td>apartment</td>\n",
       "      <td>1908</td>\n",
       "      <td>3</td>\n",
       "      <td>2.0</td>\n",
       "      <td>1</td>\n",
       "      <td>1</td>\n",
       "      <td>1</td>\n",
       "      <td>0</td>\n",
       "      <td>0</td>\n",
       "      <td>0</td>\n",
       "      <td>laundry on site</td>\n",
       "      <td>street parking</td>\n",
       "      <td>Apartments In Birmingham AL Welcome to 100 Inv...</td>\n",
       "      <td>33.4226</td>\n",
       "      <td>-86.7065</td>\n",
       "      <td>al</td>\n",
       "    </tr>\n",
       "    <tr>\n",
       "      <th>1</th>\n",
       "      <td>birmingham</td>\n",
       "      <td>1120</td>\n",
       "      <td>apartment</td>\n",
       "      <td>1319</td>\n",
       "      <td>3</td>\n",
       "      <td>2.0</td>\n",
       "      <td>1</td>\n",
       "      <td>1</td>\n",
       "      <td>1</td>\n",
       "      <td>0</td>\n",
       "      <td>0</td>\n",
       "      <td>0</td>\n",
       "      <td>laundry on site</td>\n",
       "      <td>off-street parking</td>\n",
       "      <td>Find Your Way to Haven Apartment Homes Come ho...</td>\n",
       "      <td>33.3755</td>\n",
       "      <td>-86.8045</td>\n",
       "      <td>al</td>\n",
       "    </tr>\n",
       "    <tr>\n",
       "      <th>2</th>\n",
       "      <td>birmingham</td>\n",
       "      <td>825</td>\n",
       "      <td>apartment</td>\n",
       "      <td>1133</td>\n",
       "      <td>1</td>\n",
       "      <td>1.5</td>\n",
       "      <td>1</td>\n",
       "      <td>1</td>\n",
       "      <td>1</td>\n",
       "      <td>0</td>\n",
       "      <td>0</td>\n",
       "      <td>0</td>\n",
       "      <td>laundry on site</td>\n",
       "      <td>street parking</td>\n",
       "      <td>Apartments In Birmingham AL Welcome to 100 Inv...</td>\n",
       "      <td>33.4226</td>\n",
       "      <td>-86.7065</td>\n",
       "      <td>al</td>\n",
       "    </tr>\n",
       "    <tr>\n",
       "      <th>3</th>\n",
       "      <td>birmingham</td>\n",
       "      <td>800</td>\n",
       "      <td>apartment</td>\n",
       "      <td>927</td>\n",
       "      <td>1</td>\n",
       "      <td>1.0</td>\n",
       "      <td>1</td>\n",
       "      <td>1</td>\n",
       "      <td>1</td>\n",
       "      <td>0</td>\n",
       "      <td>0</td>\n",
       "      <td>0</td>\n",
       "      <td>laundry on site</td>\n",
       "      <td>street parking</td>\n",
       "      <td>Apartments In Birmingham AL Welcome to 100 Inv...</td>\n",
       "      <td>33.4226</td>\n",
       "      <td>-86.7065</td>\n",
       "      <td>al</td>\n",
       "    </tr>\n",
       "    <tr>\n",
       "      <th>4</th>\n",
       "      <td>birmingham</td>\n",
       "      <td>785</td>\n",
       "      <td>apartment</td>\n",
       "      <td>1047</td>\n",
       "      <td>2</td>\n",
       "      <td>1.0</td>\n",
       "      <td>1</td>\n",
       "      <td>1</td>\n",
       "      <td>1</td>\n",
       "      <td>0</td>\n",
       "      <td>0</td>\n",
       "      <td>0</td>\n",
       "      <td>laundry on site</td>\n",
       "      <td>street parking</td>\n",
       "      <td>Apartments In Birmingham AL Welcome to 100 Inv...</td>\n",
       "      <td>33.4226</td>\n",
       "      <td>-86.7065</td>\n",
       "      <td>al</td>\n",
       "    </tr>\n",
       "  </tbody>\n",
       "</table>\n",
       "</div>"
      ],
      "text/plain": [
       "       region  price       type  sqfeet  beds  baths  cats_allowed  \\\n",
       "0  birmingham   1195  apartment    1908     3    2.0             1   \n",
       "1  birmingham   1120  apartment    1319     3    2.0             1   \n",
       "2  birmingham    825  apartment    1133     1    1.5             1   \n",
       "3  birmingham    800  apartment     927     1    1.0             1   \n",
       "4  birmingham    785  apartment    1047     2    1.0             1   \n",
       "\n",
       "   dogs_allowed  smoking_allowed  wheelchair_access  electric_vehicle_charge  \\\n",
       "0             1                1                  0                        0   \n",
       "1             1                1                  0                        0   \n",
       "2             1                1                  0                        0   \n",
       "3             1                1                  0                        0   \n",
       "4             1                1                  0                        0   \n",
       "\n",
       "   comes_furnished  laundry_options     parking_options  \\\n",
       "0                0  laundry on site      street parking   \n",
       "1                0  laundry on site  off-street parking   \n",
       "2                0  laundry on site      street parking   \n",
       "3                0  laundry on site      street parking   \n",
       "4                0  laundry on site      street parking   \n",
       "\n",
       "                                         description      lat     long state  \n",
       "0  Apartments In Birmingham AL Welcome to 100 Inv...  33.4226 -86.7065    al  \n",
       "1  Find Your Way to Haven Apartment Homes Come ho...  33.3755 -86.8045    al  \n",
       "2  Apartments In Birmingham AL Welcome to 100 Inv...  33.4226 -86.7065    al  \n",
       "3  Apartments In Birmingham AL Welcome to 100 Inv...  33.4226 -86.7065    al  \n",
       "4  Apartments In Birmingham AL Welcome to 100 Inv...  33.4226 -86.7065    al  "
      ]
     },
     "execution_count": 7,
     "metadata": {},
     "output_type": "execute_result"
    }
   ],
   "source": [
    "df.head()\n"
   ]
  },
  {
   "cell_type": "markdown",
   "metadata": {
    "pycharm": {
     "name": "#%% md\n"
    }
   },
   "source": [
    "# Exploratory Data Analysis"
   ]
  },
  {
   "cell_type": "code",
   "execution_count": 8,
   "metadata": {
    "pycharm": {
     "name": "#%%\n"
    }
   },
   "outputs": [
    {
     "data": {
      "text/plain": [
       "region                      object\n",
       "price                        int64\n",
       "type                        object\n",
       "sqfeet                       int64\n",
       "beds                         int64\n",
       "baths                      float64\n",
       "cats_allowed                 int64\n",
       "dogs_allowed                 int64\n",
       "smoking_allowed              int64\n",
       "wheelchair_access            int64\n",
       "electric_vehicle_charge      int64\n",
       "comes_furnished              int64\n",
       "laundry_options             object\n",
       "parking_options             object\n",
       "description                 object\n",
       "lat                        float64\n",
       "long                       float64\n",
       "state                       object\n",
       "dtype: object"
      ]
     },
     "execution_count": 8,
     "metadata": {},
     "output_type": "execute_result"
    }
   ],
   "source": [
    "df.dtypes\n"
   ]
  },
  {
   "cell_type": "code",
   "execution_count": null,
   "metadata": {
    "pycharm": {
     "name": "#%%\n"
    }
   },
   "outputs": [],
   "source": []
  },
  {
   "cell_type": "code",
   "execution_count": null,
   "metadata": {
    "pycharm": {
     "name": "#%%\n"
    }
   },
   "outputs": [],
   "source": []
  },
  {
   "cell_type": "code",
   "execution_count": null,
   "metadata": {
    "pycharm": {
     "name": "#%%\n"
    }
   },
   "outputs": [],
   "source": []
  },
  {
   "cell_type": "code",
   "execution_count": null,
   "metadata": {
    "pycharm": {
     "name": "#%%\n"
    }
   },
   "outputs": [],
   "source": []
  },
  {
   "cell_type": "code",
   "execution_count": null,
   "metadata": {
    "pycharm": {
     "name": "#%%\n"
    }
   },
   "outputs": [],
   "source": []
  },
  {
   "cell_type": "code",
   "execution_count": null,
   "metadata": {
    "pycharm": {
     "name": "#%%\n"
    }
   },
   "outputs": [],
   "source": []
  },
  {
   "cell_type": "code",
   "execution_count": null,
   "metadata": {
    "pycharm": {
     "name": "#%%\n"
    }
   },
   "outputs": [],
   "source": []
  },
  {
   "cell_type": "code",
   "execution_count": null,
   "metadata": {
    "pycharm": {
     "name": "#%%\n"
    }
   },
   "outputs": [],
   "source": []
  },
  {
   "cell_type": "code",
   "execution_count": null,
   "metadata": {
    "pycharm": {
     "name": "#%%\n"
    }
   },
   "outputs": [],
   "source": []
  },
  {
   "cell_type": "code",
   "execution_count": null,
   "metadata": {
    "pycharm": {
     "name": "#%%\n"
    }
   },
   "outputs": [],
   "source": []
  },
  {
   "cell_type": "markdown",
   "metadata": {
    "pycharm": {
     "name": "#%% md\n"
    }
   },
   "source": [
    "# Preprocessing the data"
   ]
  },
  {
   "cell_type": "code",
   "execution_count": null,
   "metadata": {
    "pycharm": {
     "name": "#%%\n"
    }
   },
   "outputs": [],
   "source": [
    "def dump_data(data: dict):\n",
    "    \"\"\"\n",
    "    This function dumps `data` into a JSON file(`data.json`).\n",
    "    :param data: Data to dump into a JSON file. The keys in `data` are values from one of the\n",
    "        `object` dtype columns in `df`. The values in `data` are the indexes of the keys. In the app,\n",
    "        users will insert new data that is not preprocessed. Therefore, we must save `data` to encode new data.\n",
    "    \"\"\"\n",
    "    with open(JSON_FILE_NAME, 'w') as f:\n",
    "        json.dump(data, f)\n",
    "\n",
    "\n",
    "def get_columns_to_encode(df: pd.DataFrame):\n",
    "    \"\"\"\n",
    "    This function dumps all `object` dtype columns in `df` to a JSON file.\n",
    "    :param df: pd.DataFrame with columns to encode\n",
    "    \"\"\"\n",
    "    for column in df.columns:\n",
    "        if df[column].dtype == \"O\": # If the column should be encoded.\n",
    "            column_classes = df[column].unique()\n",
    "            column_classes_labeled = {key : value for key, value in zip(column_classes, range(len(column_classes)))}\n",
    "            dump_data(column_classes_labeled)\n",
    "\n",
    "\n",
    "def encode_data(df: pd.DataFrame, save_encoders: bool) -> pd.DataFrame:\n",
    "    \"\"\"\n",
    "    This function encodes all `object` dtype columns in `df`.\n",
    "    :param df: pd.DataFrame with columns to encode.\n",
    "    :param save_encoders: Whether to save the encoder for each column as a file or not.\n",
    "        Saving the encoder as a file is essential to process new data.\n",
    "    :return: pd.DataFrame with encoded columns.\n",
    "    \"\"\"\n",
    "    for column in df.columns:\n",
    "        if df[column].dtype == \"O\": # If the column should be encoded.\n",
    "            encoder = LabelEncoder()\n",
    "            df[column] = encoder.fit_transform(df[column])\n",
    "\n",
    "            if save_encoders:\n",
    "                np.save(f\"{column}.npy\", encoder.classes_)\n",
    "    return df"
   ]
  },
  {
   "cell_type": "code",
   "execution_count": null,
   "metadata": {
    "pycharm": {
     "name": "#%%\n"
    }
   },
   "outputs": [],
   "source": [
    "\n"
   ]
  },
  {
   "cell_type": "code",
   "execution_count": 10,
   "metadata": {
    "pycharm": {
     "name": "#%%\n"
    }
   },
   "outputs": [],
   "source": []
  },
  {
   "cell_type": "code",
   "execution_count": 10,
   "metadata": {
    "pycharm": {
     "name": "#%%\n"
    }
   },
   "outputs": [],
   "source": []
  },
  {
   "cell_type": "code",
   "execution_count": null,
   "metadata": {
    "pycharm": {
     "name": "#%%\n"
    }
   },
   "outputs": [],
   "source": [
    "\n"
   ]
  }
 ],
 "metadata": {
  "kernelspec": {
   "display_name": "Python 3",
   "language": "python",
   "name": "python3"
  },
  "language_info": {
   "codemirror_mode": {
    "name": "ipython",
    "version": 3
   },
   "file_extension": ".py",
   "mimetype": "text/x-python",
   "name": "python",
   "nbconvert_exporter": "python",
   "pygments_lexer": "ipython3",
   "version": "3.9.0"
  }
 },
 "nbformat": 4,
 "nbformat_minor": 1
}
